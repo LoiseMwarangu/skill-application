{
 "cells": [
  {
   "cell_type": "markdown",
   "metadata": {},
   "source": [
    "###### Build a movie recommender system using a Python library such as Surprise or FastFM."
   ]
  },
  {
   "cell_type": "code",
   "execution_count": 44,
   "metadata": {},
   "outputs": [],
   "source": [
    "# import libraries\n",
    "import pandas as pd\n",
    "import os, io\n",
    "import numpy as np\n",
    "import surprise\n",
    "from pandas import Series, DataFrame, read_table\n",
    "from surprise import Dataset\n",
    "from surprise.model_selection import KFold ,cross_validate\n",
    "from surprise import KNNBasic, Reader,Dataset,SVD\n",
    "from surprise.model_selection import cross_validate\n",
    "from surprise.accuracy import rmse\n",
    "from surprise.model_selection import train_test_split"
   ]
  },
  {
   "cell_type": "code",
   "execution_count": 9,
   "metadata": {},
   "outputs": [],
   "source": [
    "# load dataset\n",
    "reader = Reader(line_format='user item rating timestamp', sep='\\t')\n",
    "data = Dataset.load_from_file('./data/ml-100k/u.data', reader=reader,)\n"
   ]
  },
  {
   "cell_type": "code",
   "execution_count": 10,
   "metadata": {},
   "outputs": [
    {
     "data": {
      "text/plain": [
       "<generator object KFold.split at 0x7fb5e9599e40>"
      ]
     },
     "execution_count": 10,
     "metadata": {},
     "output_type": "execute_result"
    }
   ],
   "source": [
    "kf = KFold(n_splits=5)\n",
    "kf.split(data)"
   ]
  },
  {
   "cell_type": "code",
   "execution_count": 11,
   "metadata": {},
   "outputs": [],
   "source": [
    "algo = KNNBasic(sim_options={'user_based':False}) "
   ]
  },
  {
   "cell_type": "code",
   "execution_count": 12,
   "metadata": {},
   "outputs": [
    {
     "name": "stdout",
     "output_type": "stream",
     "text": [
      "Computing the msd similarity matrix...\n",
      "Done computing similarity matrix.\n",
      "Computing the msd similarity matrix...\n",
      "Done computing similarity matrix.\n",
      "Computing the msd similarity matrix...\n",
      "Done computing similarity matrix.\n",
      "Computing the msd similarity matrix...\n",
      "Done computing similarity matrix.\n",
      "Computing the msd similarity matrix...\n",
      "Done computing similarity matrix.\n"
     ]
    },
    {
     "data": {
      "text/plain": [
       "{'test_rmse': array([0.97205826, 0.96769216, 0.97699906, 0.98021216, 0.9707333 ]),\n",
       " 'test_mae': array([0.76764394, 0.76623195, 0.77252127, 0.77316184, 0.76626819]),\n",
       " 'fit_time': (0.7465410232543945,\n",
       "  0.7235636711120605,\n",
       "  0.6627159118652344,\n",
       "  0.680964469909668,\n",
       "  0.7012472152709961),\n",
       " 'test_time': (5.2393341064453125,\n",
       "  4.93437647819519,\n",
       "  4.64732027053833,\n",
       "  4.61664891242981,\n",
       "  4.581440687179565)}"
      ]
     },
     "execution_count": 12,
     "metadata": {},
     "output_type": "execute_result"
    }
   ],
   "source": [
    "cross_validate(algo,data,measures = ['rmse','mae'])"
   ]
  },
  {
   "cell_type": "code",
   "execution_count": 37,
   "metadata": {},
   "outputs": [],
   "source": [
    "trainset = data.build_full_trainset()\n",
    "testSet = trainset.build_anti_testset()"
   ]
  },
  {
   "cell_type": "code",
   "execution_count": 38,
   "metadata": {},
   "outputs": [],
   "source": [
    "\n",
    "train, test = train_test_split(data, test_size=0.25)\n",
    "predictions = algo.test(test)\n"
   ]
  },
  {
   "cell_type": "code",
   "execution_count": 39,
   "metadata": {},
   "outputs": [],
   "source": [
    "from collections import defaultdict\n",
    "\n",
    "def get_top3_recommendations(predictions, topN = 3):\n",
    "\n",
    "    top_recs = defaultdict(list)\n",
    "\n",
    "    for uid, iid, true_r, est, _ in predictions:\n",
    "\n",
    "        top_recs[uid].append((iid, est))\n",
    "    for uid, user_ratings in top_recs.items():\n",
    "\n",
    "        user_ratings.sort(key = lambda x: x[1], reverse = True)\n",
    "\n",
    "        top_recs[uid] = user_ratings[:topN]\n",
    "    return top_recs\n"
   ]
  },
  {
   "cell_type": "code",
   "execution_count": 40,
   "metadata": {},
   "outputs": [],
   "source": [
    "def read_item_names():\n",
    "    \"\"\"Read the u.item file from MovieLens 100-k dataset and returns a\n",
    "    mapping to convert raw ids into movie names.\n",
    "    \"\"\"\n",
    "    file_name = ('./data/ml-100k//u.item')\n",
    "    rid_to_name = {}\n",
    "    with io.open(file_name, 'r', encoding='ISO-8859-1') as f:\n",
    "        for line in f:\n",
    "            line = line.split('|')\n",
    "            rid_to_name[line[0]] = line[1]\n",
    "    return rid_to_name"
   ]
  },
  {
   "cell_type": "code",
   "execution_count": 41,
   "metadata": {},
   "outputs": [],
   "source": [
    "top3_recommendations = get_top3_recommendations(predictions)\n",
    "rid_to_name = read_item_names()\n",
    "recommendations = list()\n",
    "for uid, user_ratings in top3_recommendations.items():\n",
    "    reco = [uid, [rid_to_name[iid] for (iid, _) in user_ratings]]\n",
    "    recommendations.append(reco)\n",
    "    #print(uid, [rid_to_name[iid] for (iid, _) in user_ratings])\n",
    "\n",
    "df = DataFrame(recommendations,columns=['u_id','movie title'])"
   ]
  },
  {
   "cell_type": "code",
   "execution_count": 42,
   "metadata": {},
   "outputs": [
    {
     "data": {
      "text/plain": [
       "array([list(['Dangerous Beauty (1998)', 'Kundun (1997)', 'Wyatt Earp (1994)'])],\n",
       "      dtype=object)"
      ]
     },
     "execution_count": 42,
     "metadata": {},
     "output_type": "execute_result"
    }
   ],
   "source": [
    "df[df['u_id']=='13']['movie title'].values"
   ]
  },
  {
   "cell_type": "code",
   "execution_count": 45,
   "metadata": {},
   "outputs": [
    {
     "name": "stdout",
     "output_type": "stream",
     "text": [
      "RMSE: 0.7628\n"
     ]
    }
   ],
   "source": [
    "accuracy = surprise.accuracy.rmse(predictions)"
   ]
  },
  {
   "cell_type": "code",
   "execution_count": 46,
   "metadata": {},
   "outputs": [
    {
     "data": {
      "text/plain": [
       "0.7628005377513208"
      ]
     },
     "execution_count": 46,
     "metadata": {},
     "output_type": "execute_result"
    }
   ],
   "source": [
    "accuracy"
   ]
  },
  {
   "cell_type": "code",
   "execution_count": null,
   "metadata": {},
   "outputs": [],
   "source": []
  }
 ],
 "metadata": {
  "kernelspec": {
   "display_name": "Python 3",
   "language": "python",
   "name": "python3"
  },
  "language_info": {
   "codemirror_mode": {
    "name": "ipython",
    "version": 3
   },
   "file_extension": ".py",
   "mimetype": "text/x-python",
   "name": "python",
   "nbconvert_exporter": "python",
   "pygments_lexer": "ipython3",
   "version": "3.8.5"
  }
 },
 "nbformat": 4,
 "nbformat_minor": 4
}
